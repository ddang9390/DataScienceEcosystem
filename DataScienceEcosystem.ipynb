{
 "cells": [
  {
   "cell_type": "markdown",
   "id": "ff9c20e1-798c-450a-8a72-949abb15298e",
   "metadata": {},
   "source": [
    "# Data Science Tools and Ecosystem"
   ]
  },
  {
   "cell_type": "markdown",
   "id": "ee25fe4c-98b0-419e-9c14-7f656e9b6120",
   "metadata": {},
   "source": [
    "In this notebook, Data Science Tools and Ecosystem are summarized"
   ]
  },
  {
   "cell_type": "markdown",
   "id": "24b14178-1039-4dda-a855-184c671580ef",
   "metadata": {},
   "source": [
    "**Objectives**\n",
    "- List popular languages\n",
    "- List popular tools\n",
    "- Display arithmetic expressions using Python"
   ]
  },
  {
   "cell_type": "markdown",
   "id": "6b63eb7b-f459-4d51-a517-e5f6056f143a",
   "metadata": {},
   "source": [
    "Some of the popular languages that Data Scientists use are:\n",
    "1. Python\n",
    "2. R\n",
    "3. SQL"
   ]
  },
  {
   "cell_type": "markdown",
   "id": "59e90d4c-27e3-4403-85d7-4fc72aa25c0f",
   "metadata": {},
   "source": [
    "| Data Science Tools |\n",
    "| ------------------ |\n",
    "| Jupyter Notebook |\n",
    "| Tableau |\n",
    "| Power BI |\n"
   ]
  },
  {
   "cell_type": "markdown",
   "id": "7e031f9d-8dde-46b2-8727-b3acf20e6b90",
   "metadata": {},
   "source": [
    "### Below are a few examples of evaluation expressions in Python\n",
    "- 1 + 1\n",
    "- 1 - 1\n",
    "- 1 * 1\n",
    "- 1 / 1"
   ]
  },
  {
   "cell_type": "code",
   "execution_count": 3,
   "id": "815b3e2c-f043-4347-ba0d-43c2bc3c5bba",
   "metadata": {},
   "outputs": [
    {
     "data": {
      "text/plain": [
       "17"
      ]
     },
     "execution_count": 3,
     "metadata": {},
     "output_type": "execute_result"
    }
   ],
   "source": [
    "(3*4)+5\n",
    "# This is a simple arithmetic expression to multiply then add integers"
   ]
  },
  {
   "cell_type": "code",
   "execution_count": 4,
   "id": "1246d986-7624-420a-a5f8-4ca011eb0aa9",
   "metadata": {},
   "outputs": [
    {
     "data": {
      "text/plain": [
       "33.333333333333336"
      ]
     },
     "execution_count": 4,
     "metadata": {},
     "output_type": "execute_result"
    }
   ],
   "source": [
    "200/6\n",
    "# This will convert 200 minutes to hours by dividing by 60"
   ]
  },
  {
   "cell_type": "markdown",
   "id": "2f6dd857-f467-437a-a2ff-0232b2cbde8f",
   "metadata": {},
   "source": [
    "## Author\n",
    "Daniel Dang"
   ]
  }
 ],
 "metadata": {
  "kernelspec": {
   "display_name": "Python 3 (ipykernel)",
   "language": "python",
   "name": "python3"
  },
  "language_info": {
   "codemirror_mode": {
    "name": "ipython",
    "version": 3
   },
   "file_extension": ".py",
   "mimetype": "text/x-python",
   "name": "python",
   "nbconvert_exporter": "python",
   "pygments_lexer": "ipython3",
   "version": "3.12.7"
  }
 },
 "nbformat": 4,
 "nbformat_minor": 5
}
